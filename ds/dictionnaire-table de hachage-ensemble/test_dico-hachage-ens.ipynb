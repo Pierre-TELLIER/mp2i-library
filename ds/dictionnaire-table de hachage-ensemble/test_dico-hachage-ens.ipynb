{
 "cells": [
  {
   "cell_type": "code",
   "execution_count": 1,
   "id": "21099d20-bd5d-4121-a312-797689c38d73",
   "metadata": {},
   "outputs": [
    {
     "name": "stdout",
     "output_type": "stream",
     "text": [
      "type ('cle, 'valeur) dict = {\n",
      "  get : 'cle -> 'valeur option;\n",
      "  add : 'cle * 'valeur -> unit;\n",
      "  del : 'cle -> unit;\n",
      "}\n",
      "val donnees : '_weak1 list ref = {contents = []}\n",
      "val delete : '_weak2 -> unit = <fun>\n",
      "val gete : '_weak3 -> '_weak4 option = <fun>\n",
      "val ajoute : '_weak3 * '_weak4 -> unit = <fun>\n",
      "val dicho : ('_weak5, '_weak6) dict = {get = <fun>; add = <fun>; del = <fun>}\n",
      "val frequent : 'a array -> ('a, int) dict -> 'a = <fun>\n",
      "type ('cle, 'valeur) hashtable = {\n",
      "  tableau : ('cle * 'valeur) option array;\n",
      "  hache : 'cle -> int;\n",
      "}\n",
      "val ht_get : ('a, 'b) hashtable -> 'a -> ('a * 'b) option = <fun>\n",
      "val ht_add : ('a, 'b) hashtable -> 'a * ('a * 'b) -> unit = <fun>\n",
      "val ht_del : ('a, 'b) hashtable -> 'a -> unit = <fun>\n",
      "val dict_of_ht : int -> (int, int * 'a) dict = <fun>\n"
     ]
    }
   ],
   "source": [
    "#use \"dico-hachage-ensemble.ml\""
   ]
  },
  {
   "cell_type": "code",
   "execution_count": 2,
   "id": "231e432a-c755-4d91-b243-9b6732e27f7f",
   "metadata": {},
   "outputs": [
    {
     "data": {
      "text/plain": [
       "- : int * int = (1, 2)\n"
      ]
     },
     "execution_count": 2,
     "metadata": {},
     "output_type": "execute_result"
    }
   ],
   "source": [
    "frequent [|1;1;1;2|] dicho, frequent [|1;1;2;2;2|] dicho\n"
   ]
  },
  {
   "cell_type": "code",
   "execution_count": 3,
   "id": "fa627e6f-4810-4e56-9cbf-ee8e7df5e511",
   "metadata": {},
   "outputs": [
    {
     "ename": "error",
     "evalue": "runtime_error",
     "output_type": "error",
     "traceback": [
      "\u001b[31mException: Failure \"il n'y a pas d'elements majoritaire\".\nRaised at Stdlib.failwith in file \"stdlib.ml\", line 29, characters 17-33\nCalled from frequent in file \"dico-hachage-ensemble.ml\", line 45, characters 4-9\nCalled from Toploop.load_lambda in file \"toplevel/toploop.ml\", line 212, characters 17-27\n\u001b[0m"
     ]
    }
   ],
   "source": [
    "frequent [|1;1;1;2;2;2|] dicho "
   ]
  }
 ],
 "metadata": {
  "kernelspec": {
   "display_name": "OCaml default",
   "language": "OCaml",
   "name": "ocaml-jupyter"
  },
  "language_info": {
   "codemirror_mode": "text/x-ocaml",
   "file_extension": ".ml",
   "mimetype": "text/x-ocaml",
   "name": "OCaml",
   "nbconverter_exporter": null,
   "pygments_lexer": "OCaml",
   "version": "4.11.1"
  }
 },
 "nbformat": 4,
 "nbformat_minor": 5
}
