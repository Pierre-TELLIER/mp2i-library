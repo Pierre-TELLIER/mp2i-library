{
 "cells": [
  {
   "cell_type": "code",
   "execution_count": 41,
   "id": "ba67ab4a-11c3-4a65-b2d3-1c4f4bf3928b",
   "metadata": {},
   "outputs": [
    {
     "name": "stdout",
     "output_type": "stream",
     "text": [
      "val sum : int list -> int = <fun>\n",
      "val reverse : 'a list -> 'a list = <fun>\n",
      "val appartient : 'a -> 'a list -> bool = <fun>\n",
      "val croissant : 'a list -> bool = <fun>\n",
      "val dernier : 'a list -> 'a = <fun>\n",
      "val deuxieme : 'a list -> 'a = <fun>\n",
      "val sumlist : int list -> int list -> int list = <fun>\n",
      "val concat : 'a list -> 'a list -> 'a list = <fun>\n",
      "val maximum : 'a list -> 'a = <fun>\n",
      "val equal : 'a list -> 'a list -> bool = <fun>\n",
      "val lenght : 'a list -> int = <fun>\n",
      "val doublon_suite : 'a list -> bool = <fun>\n",
      "val fusion : 'a list -> 'a list -> 'a list = <fun>\n",
      "val split : 'a list -> 'a list * 'a list = <fun>\n",
      "val tri_fusion : 'a list -> 'a list = <fun>\n",
      "val tri_basique : int array -> int array = <fun>\n",
      "val tri_rapide : 'a list -> 'a list = <fun>\n"
     ]
    }
   ],
   "source": [
    "#use \"../modules.ml\""
   ]
  },
  {
   "cell_type": "code",
   "execution_count": 25,
   "id": "3f9416c0-c7bc-4ea0-b213-106dbb431b08",
   "metadata": {},
   "outputs": [
    {
     "data": {
      "text/plain": [
       "- : int array = [|1; 1; 2; 2; 3; 3; 4; 4; 5|]\n"
      ]
     },
     "execution_count": 25,
     "metadata": {},
     "output_type": "execute_result"
    }
   ],
   "source": [
    "tri_basique [|1;2;3;4;5;4;3;2;1|]"
   ]
  },
  {
   "cell_type": "code",
   "execution_count": 22,
   "id": "e03c047a-f834-4501-a6cc-c26d274945df",
   "metadata": {},
   "outputs": [
    {
     "data": {
      "text/plain": [
       "val tri_fusion : 'a list -> 'a list = <fun>\n"
      ]
     },
     "execution_count": 22,
     "metadata": {},
     "output_type": "execute_result"
    }
   ],
   "source": []
  },
  {
   "cell_type": "code",
   "execution_count": 23,
   "id": "6b9c1606-086e-4dab-b981-249499a832fe",
   "metadata": {},
   "outputs": [
    {
     "data": {
      "text/plain": [
       "- : int list = [1; 2; 3; 4; 5; 6; 7; 8; 9]\n"
      ]
     },
     "execution_count": 23,
     "metadata": {},
     "output_type": "execute_result"
    }
   ],
   "source": [
    "tri_fusion [1;5;3;6;8;9;7;4;2]"
   ]
  },
  {
   "cell_type": "code",
   "execution_count": 40,
   "id": "494c561a-3969-464c-97d0-3997852682a4",
   "metadata": {},
   "outputs": [
    {
     "data": {
      "text/plain": [
       "val tri_rapide : 'a list -> 'a list = <fun>\n"
      ]
     },
     "execution_count": 40,
     "metadata": {},
     "output_type": "execute_result"
    },
    {
     "data": {
      "text/plain": [
       "- : int list = [1; 2; 3; 4; 5; 6; 7; 8; 9]\n"
      ]
     },
     "execution_count": 40,
     "metadata": {},
     "output_type": "execute_result"
    }
   ],
   "source": [
    "tri_rapide [6;3;5;2;9;7;8;4;1]"
   ]
  },
  {
   "cell_type": "code",
   "execution_count": 32,
   "id": "3e8b93d2-d58f-47e5-be98-b0a1c58af0b5",
   "metadata": {},
   "outputs": [
    {
     "data": {
      "text/plain": [
       "- : int -> bool = <fun>\n"
      ]
     },
     "execution_count": 32,
     "metadata": {},
     "output_type": "execute_result"
    }
   ],
   "source": [
    " "
   ]
  },
  {
   "cell_type": "code",
   "execution_count": null,
   "id": "fab2f1c0-b311-434a-8019-507dd6282861",
   "metadata": {},
   "outputs": [],
   "source": []
  }
 ],
 "metadata": {
  "kernelspec": {
   "display_name": "OCaml default",
   "language": "OCaml",
   "name": "ocaml-jupyter"
  },
  "language_info": {
   "codemirror_mode": "text/x-ocaml",
   "file_extension": ".ml",
   "mimetype": "text/x-ocaml",
   "name": "OCaml",
   "nbconverter_exporter": null,
   "pygments_lexer": "OCaml",
   "version": "4.11.1"
  },
  "toc-autonumbering": false,
  "toc-showcode": false,
  "toc-showmarkdowntxt": false
 },
 "nbformat": 4,
 "nbformat_minor": 5
}
