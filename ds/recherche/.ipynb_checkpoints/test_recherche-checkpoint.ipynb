{
 "cells": [
  {
   "cell_type": "code",
   "execution_count": 2,
   "id": "e1d95e79-70b5-4f13-b4fa-9e3218214db1",
   "metadata": {},
   "outputs": [
    {
     "name": "stdout",
     "output_type": "stream",
     "text": [
      "val sum : int list -> int = <fun>\n",
      "val reverse : 'a list -> 'a list = <fun>\n",
      "val appartient : 'a -> 'a list -> bool = <fun>\n",
      "val croissant : 'a list -> bool = <fun>\n",
      "val dernier : 'a list -> 'a = <fun>\n",
      "val deuxieme : 'a list -> 'a = <fun>\n",
      "val sumlist : int list -> int list -> int list = <fun>\n",
      "val concat : 'a list -> 'a list -> 'a list = <fun>\n",
      "val maximum : 'a list -> 'a = <fun>\n",
      "val equal : 'a list -> 'a list -> bool = <fun>\n",
      "val lenght : 'a list -> int = <fun>\n",
      "val doublon_suite : 'a list -> bool = <fun>\n",
      "val fusion : 'a list -> 'a list -> 'a list = <fun>\n",
      "val split : 'a list -> 'a list * 'a list = <fun>\n",
      "val tri_fusion : 'a list -> 'a list = <fun>\n",
      "val tri_basique : int array -> int array = <fun>\n",
      "val tri_rapide : 'a list -> 'a list = <fun>\n",
      "val recherche_basique : 'a array -> 'a -> bool = <fun>\n",
      "val recherche_basique_indice : 'a array -> 'a -> int = <fun>\n",
      "val dichotomie : 'a array -> 'a -> int = <fun>\n"
     ]
    }
   ],
   "source": [
    "#use \"../modules.ml\""
   ]
  },
  {
   "cell_type": "code",
   "execution_count": 1,
   "id": "ec41298f-58a8-4f6b-b1b3-7302295d60db",
   "metadata": {},
   "outputs": [
    {
     "data": {
      "text/plain": [
       "val tableau_non_trie : int array = [|6; 3; 7; 5; 2; 9; 8; 1; 4|]\n"
      ]
     },
     "execution_count": 1,
     "metadata": {},
     "output_type": "execute_result"
    }
   ],
   "source": [
    "let tableau_non_trie = [|6;3;7;5;2;9;8;1;4|]\n"
   ]
  },
  {
   "cell_type": "code",
   "execution_count": 2,
   "id": "1f6c89db-f338-4341-8d45-59ddada53404",
   "metadata": {},
   "outputs": [
    {
     "data": {
      "text/plain": [
       "val tableau_trie : int array = [|1; 2; 3; 4; 5; 6; 7; 8; 9|]\n"
      ]
     },
     "execution_count": 2,
     "metadata": {},
     "output_type": "execute_result"
    }
   ],
   "source": [
    "let tableau_trie = [|1;2;3;4;5;6;7;8;9|]"
   ]
  },
  {
   "cell_type": "code",
   "execution_count": 5,
   "id": "601457eb-7896-4c1e-a49a-0c973fa715b8",
   "metadata": {},
   "outputs": [
    {
     "data": {
      "text/plain": [
       "- : bool * bool * bool = (true, true, false)\n"
      ]
     },
     "execution_count": 5,
     "metadata": {},
     "output_type": "execute_result"
    }
   ],
   "source": [
    "recherche_basique tableau_non_trie 5, recherche_basique tableau_trie 5,recherche_basique tableau_trie 12"
   ]
  },
  {
   "cell_type": "code",
   "execution_count": 6,
   "id": "15887d3b-3902-49c3-8ee1-fc521eb52af2",
   "metadata": {},
   "outputs": [
    {
     "data": {
      "text/plain": [
       "- : int * int * int = (3, 4, -1)\n"
      ]
     },
     "execution_count": 6,
     "metadata": {},
     "output_type": "execute_result"
    }
   ],
   "source": [
    "recherche_basique_indice tableau_non_trie 5, recherche_basique_indice tableau_trie 5,recherche_basique_indice tableau_trie 12"
   ]
  },
  {
   "cell_type": "code",
   "execution_count": 7,
   "id": "51a398b1-db4f-42c1-aab4-0f38b8196cc6",
   "metadata": {},
   "outputs": [
    {
     "data": {
      "text/plain": [
       "- : int * int = (6, -1)\n"
      ]
     },
     "execution_count": 7,
     "metadata": {},
     "output_type": "execute_result"
    }
   ],
   "source": [
    "dichotomie tableau_trie 7,dichotomie tableau_trie 12 "
   ]
  },
  {
   "cell_type": "code",
   "execution_count": 10,
   "id": "f2558b0d-643a-40a9-a848-ef37c6c05a56",
   "metadata": {},
   "outputs": [
    {
     "data": {
      "text/plain": [
       "val trichotomie : 'a array -> 'a -> int = <fun>\n"
      ]
     },
     "execution_count": 10,
     "metadata": {},
     "output_type": "execute_result"
    },
    {
     "data": {
      "text/plain": [
       "- : int * int = (-1, 8)\n"
      ]
     },
     "execution_count": 10,
     "metadata": {},
     "output_type": "execute_result"
    }
   ],
   "source": [
    "trichotomie tableau_trie 10,trichotomie tableau_trie 9"
   ]
  },
  {
   "cell_type": "code",
   "execution_count": 12,
   "id": "4073ae19-a252-49ef-9a46-bfebe2259fb1",
   "metadata": {},
   "outputs": [
    {
     "data": {
      "text/plain": [
       "val doublon : int array = [|1; 2; 3; 4; 5; 5; 6; 7; 8; 9|]\n"
      ]
     },
     "execution_count": 12,
     "metadata": {},
     "output_type": "execute_result"
    }
   ],
   "source": [
    "let doublon = [|1;2;3;4;5;5;6;7;8;9|]"
   ]
  },
  {
   "cell_type": "code",
   "execution_count": 27,
   "id": "0936f4dc-c35b-4d9b-a0d4-3ef73798b5de",
   "metadata": {},
   "outputs": [
    {
     "data": {
      "text/plain": [
       "val doublon_tableau : int array -> bool = <fun>\n"
      ]
     },
     "execution_count": 27,
     "metadata": {},
     "output_type": "execute_result"
    }
   ],
   "source": []
  },
  {
   "cell_type": "code",
   "execution_count": 28,
   "id": "34bcdb22-ff29-401c-8e28-f755a8011ca4",
   "metadata": {},
   "outputs": [
    {
     "data": {
      "text/plain": [
       "- : bool = true\n"
      ]
     },
     "execution_count": 28,
     "metadata": {},
     "output_type": "execute_result"
    }
   ],
   "source": [
    "doublon_tableau doublon"
   ]
  },
  {
   "cell_type": "code",
   "execution_count": null,
   "id": "d2122d82-3c65-459c-86cc-40fd47281e25",
   "metadata": {},
   "outputs": [],
   "source": []
  }
 ],
 "metadata": {
  "kernelspec": {
   "display_name": "OCaml default",
   "language": "OCaml",
   "name": "ocaml-jupyter"
  },
  "language_info": {
   "codemirror_mode": "text/x-ocaml",
   "file_extension": ".ml",
   "mimetype": "text/x-ocaml",
   "name": "OCaml",
   "nbconverter_exporter": null,
   "pygments_lexer": "OCaml",
   "version": "4.11.1"
  }
 },
 "nbformat": 4,
 "nbformat_minor": 5
}
