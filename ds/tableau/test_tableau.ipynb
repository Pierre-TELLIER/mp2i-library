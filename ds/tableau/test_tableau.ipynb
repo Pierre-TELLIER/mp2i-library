{
 "cells": [
  {
   "cell_type": "code",
   "execution_count": 1,
   "id": "a4b8586d-2493-4e3e-9521-4a877a1a2771",
   "metadata": {},
   "outputs": [
    {
     "name": "stdout",
     "output_type": "stream",
     "text": [
      "val sum : int list -> int = <fun>\n",
      "val reverse : 'a list -> 'a list = <fun>\n",
      "val appartient : 'a -> 'a list -> bool = <fun>\n",
      "val croissant : 'a list -> bool = <fun>\n",
      "val dernier : 'a list -> 'a = <fun>\n",
      "val deuxieme : 'a list -> 'a = <fun>\n",
      "val sumlist : int list -> int list -> int list = <fun>\n",
      "val concat : 'a list -> 'a list -> 'a list = <fun>\n",
      "val maximum : 'a list -> 'a = <fun>\n",
      "val equal : 'a list -> 'a list -> bool = <fun>\n",
      "val lenght : 'a list -> int = <fun>\n",
      "val doublon_suite : 'a list -> bool = <fun>\n",
      "val fusion : 'a list -> 'a list -> 'a list = <fun>\n",
      "val split : 'a list -> 'a list * 'a list = <fun>\n",
      "val tri_fusion : 'a list -> 'a list = <fun>\n",
      "val tri_basique : int array -> int array = <fun>\n",
      "val tri_rapide : 'a list -> 'a list = <fun>\n",
      "val somme : int array -> int = <fun>\n",
      "val somme_indice : int -> int -> int array -> int = <fun>\n",
      "type 'a l2c = { mutable prev : 'a l2c; elm : 'a; mutable next : 'a l2c; }\n",
      "val create : 'a -> 'a l2c = <fun>\n",
      "val del_l2c : 'a l2c -> unit = <fun>\n",
      "val add_l2c : 'a l2c -> 'a l2c -> unit = <fun>\n",
      "val mem_l2c : 'a -> 'a l2c -> bool = <fun>\n",
      "val lenght_l2c : 'a l2c -> int = <fun>\n",
      "val fusion_l2c : 'a l2c -> 'a l2c -> 'a l2c = <fun>\n",
      "type 'a zipper = { left : 'a list; right : 'a list; }\n",
      "val move_zip : string -> 'a zipper -> 'a zipper = <fun>\n",
      "type 'a case = { elem : 'a; mutable next : 'a liste1; }\n",
      "and 'a liste1 = Vide | C of 'a case\n",
      "val to_list : 'a liste1 -> 'a list = <fun>\n",
      "val step : 'a liste1 -> 'a liste1 = <fun>\n",
      "val add : 'a zipper -> 'a -> 'a zipper = <fun>\n",
      "val remove : 'a zipper -> 'a zipper = <fun>\n",
      "val has_cycle : 'a liste1 -> 'a case list -> bool = <fun>\n",
      "val cycle_lc : 'a liste1 -> bool = <fun>\n",
      "val recherche_basique : 'a array -> 'a -> bool = <fun>\n",
      "val recherche_basique_indice : 'a array -> 'a -> int = <fun>\n",
      "val dichotomie : 'a array -> 'a -> int = <fun>\n",
      "val trichotomie : 'a array -> 'a -> int = <fun>\n",
      "val doublon_tableau : int array -> bool = <fun>\n",
      "val tranche_x : int array -> int -> int * int = <fun>\n",
      "val tranche_max : int array -> int = <fun>\n",
      "val print_l2c : int l2c -> unit = <fun>\n",
      "val print_bool : bool -> unit = <fun>\n",
      "val print_list_int : int list -> unit = <fun>\n",
      "val print_list_float : float list -> unit = <fun>\n",
      "val print_zipper : int zipper -> unit = <fun>\n"
     ]
    }
   ],
   "source": [
    "#use \"../modules.ml\""
   ]
  },
  {
   "cell_type": "code",
   "execution_count": 2,
   "id": "f7e5c83f-bbdd-4a6b-9ebb-1eafe4347ac4",
   "metadata": {},
   "outputs": [
    {
     "data": {
      "text/plain": [
       "val tableau_test : int array = [|1; 3; 5; 4; 2|]\n"
      ]
     },
     "execution_count": 2,
     "metadata": {},
     "output_type": "execute_result"
    }
   ],
   "source": [
    "let tableau_test = [|1;3;5;4;2|]"
   ]
  },
  {
   "cell_type": "code",
   "execution_count": 3,
   "id": "4004e60a-f377-455e-87d7-93d09484e58c",
   "metadata": {},
   "outputs": [
    {
     "data": {
      "text/plain": [
       "- : int = 15\n"
      ]
     },
     "execution_count": 3,
     "metadata": {},
     "output_type": "execute_result"
    }
   ],
   "source": [
    "somme tableau_test"
   ]
  },
  {
   "cell_type": "code",
   "execution_count": 4,
   "id": "9e408b7c-b13a-4796-9c69-a97a07e40f2d",
   "metadata": {},
   "outputs": [
    {
     "data": {
      "text/plain": [
       "- : int = 11\n"
      ]
     },
     "execution_count": 4,
     "metadata": {},
     "output_type": "execute_result"
    }
   ],
   "source": [
    "somme_indice 2 4 tableau_test"
   ]
  },
  {
   "cell_type": "code",
   "execution_count": 5,
   "id": "8e39c89a-d358-4578-856d-04bfd9b41d4f",
   "metadata": {},
   "outputs": [
    {
     "data": {
      "text/plain": [
       "val f : int -> 'a -> int = <fun>\n"
      ]
     },
     "execution_count": 5,
     "metadata": {},
     "output_type": "execute_result"
    }
   ],
   "source": [
    "let f x y = 3*x + 4"
   ]
  }
 ],
 "metadata": {
  "kernelspec": {
   "display_name": "OCaml default",
   "language": "OCaml",
   "name": "ocaml-jupyter"
  },
  "language_info": {
   "codemirror_mode": "text/x-ocaml",
   "file_extension": ".ml",
   "mimetype": "text/x-ocaml",
   "name": "OCaml",
   "nbconverter_exporter": null,
   "pygments_lexer": "OCaml",
   "version": "4.11.1"
  }
 },
 "nbformat": 4,
 "nbformat_minor": 5
}
