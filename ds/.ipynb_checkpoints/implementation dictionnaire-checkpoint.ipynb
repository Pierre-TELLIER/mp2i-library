{
 "cells": [
  {
   "cell_type": "code",
   "execution_count": 1,
   "id": "e12f87a7-867b-4453-8130-27a429219d59",
   "metadata": {},
   "outputs": [
    {
     "data": {
      "text/plain": [
       "type ('k, 'v) dict = {\n",
       "  add : 'k * 'v -> unit;\n",
       "  del : 'k -> unit;\n",
       "  get : 'k -> 'v option;\n",
       "}\n"
      ]
     },
     "execution_count": 1,
     "metadata": {},
     "output_type": "execute_result"
    }
   ],
   "source": [
    "type ('k, 'v) dict = { add : 'k * 'v -> unit ; del : 'k -> unit ; get : 'k -> 'v option } ;;"
   ]
  },
  {
   "cell_type": "code",
   "execution_count": 2,
   "id": "051f2729-578e-4275-8bab-687801478bda",
   "metadata": {},
   "outputs": [
    {
     "data": {
      "text/plain": [
       "val donnees : '_weak1 list ref = {contents = []}\n"
      ]
     },
     "execution_count": 2,
     "metadata": {},
     "output_type": "execute_result"
    }
   ],
   "source": [
    "let donnees = ref [] "
   ]
  },
  {
   "cell_type": "code",
   "execution_count": 3,
   "id": "6f3209a7-30ca-4d45-985d-7a08baae55c0",
   "metadata": {},
   "outputs": [
    {
     "data": {
      "text/plain": [
       "val delete : '_weak2 -> unit = <fun>\n"
      ]
     },
     "execution_count": 3,
     "metadata": {},
     "output_type": "execute_result"
    }
   ],
   "source": [
    "let delete k = donnees := (List.filter (fun x -> fst(x)<> k) !donnees )"
   ]
  },
  {
   "cell_type": "code",
   "execution_count": 4,
   "id": "3459bc9c-f553-42f5-a4e9-f008d8ab326e",
   "metadata": {},
   "outputs": [
    {
     "data": {
      "text/plain": [
       "val gete : '_weak3 -> '_weak4 option = <fun>\n"
      ]
     },
     "execution_count": 4,
     "metadata": {},
     "output_type": "execute_result"
    }
   ],
   "source": [
    "let gete k = \n",
    "    let data = List.filter (fun x -> fst(x) = k) !donnees in\n",
    "    \n",
    "    let values = List.map snd data in \n",
    "    \n",
    "    match values with \n",
    "        | e::q ->  Some (e)\n",
    "        | [] -> None\n",
    "   "
   ]
  },
  {
   "cell_type": "code",
   "execution_count": 10,
   "id": "da6014fd-6567-4446-8069-83c4993b2975",
   "metadata": {},
   "outputs": [
    {
     "data": {
      "text/plain": [
       "val ajoute : int * int -> unit = <fun>\n"
      ]
     },
     "execution_count": 10,
     "metadata": {},
     "output_type": "execute_result"
    }
   ],
   "source": [
    "let ajoute (k,v) = match gete k with \n",
    "    | None -> donnees := (k,v)::!donnees \n",
    "    | Some (x) -> delete k ; donnees := (k,v)::!donnees "
   ]
  },
  {
   "cell_type": "code",
   "execution_count": 6,
   "id": "9920dde4-82b6-4a11-a808-f29f1effbfc7",
   "metadata": {},
   "outputs": [
    {
     "data": {
      "text/plain": [
       "val dicho : ('_weak5, '_weak6) dict = {add = <fun>; del = <fun>; get = <fun>}\n"
      ]
     },
     "execution_count": 6,
     "metadata": {},
     "output_type": "execute_result"
    }
   ],
   "source": [
    "let dicho = { add = ajoute ; del = delete; get = gete } "
   ]
  },
  {
   "cell_type": "code",
   "execution_count": 9,
   "id": "1206e423-058e-448c-9fc5-8a82087a9f9a",
   "metadata": {},
   "outputs": [
    {
     "data": {
      "text/plain": [
       "- : unit = ()\n"
      ]
     },
     "execution_count": 9,
     "metadata": {},
     "output_type": "execute_result"
    }
   ],
   "source": [
    "dicho.add (5,2)"
   ]
  },
  {
   "cell_type": "code",
   "execution_count": 8,
   "id": "7bc52eb6-b000-4886-9738-b04d40e8e2d7",
   "metadata": {},
   "outputs": [
    {
     "data": {
      "text/plain": [
       "- : int option = Some 2\n"
      ]
     },
     "execution_count": 8,
     "metadata": {},
     "output_type": "execute_result"
    }
   ],
   "source": [
    "dicho.get 5"
   ]
  }
 ],
 "metadata": {
  "kernelspec": {
   "display_name": "OCaml default",
   "language": "OCaml",
   "name": "ocaml-jupyter"
  },
  "language_info": {
   "codemirror_mode": "text/x-ocaml",
   "file_extension": ".ml",
   "mimetype": "text/x-ocaml",
   "name": "OCaml",
   "nbconverter_exporter": null,
   "pygments_lexer": "OCaml",
   "version": "4.11.1"
  }
 },
 "nbformat": 4,
 "nbformat_minor": 5
}
