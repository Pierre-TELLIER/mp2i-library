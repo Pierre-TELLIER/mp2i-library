{
 "cells": [
  {
   "cell_type": "code",
   "execution_count": 1,
   "id": "6a46a7fb-6da3-4db0-add0-32c569ce2f0b",
   "metadata": {},
   "outputs": [
    {
     "data": {
      "text/plain": [
       "val split : 'a list -> 'a list * 'a list = <fun>\n"
      ]
     },
     "execution_count": 1,
     "metadata": {},
     "output_type": "execute_result"
    },
    {
     "data": {
      "text/plain": [
       "- : int list * int list = ([1; 3; 5; 7; 9], [2; 4; 6; 8])\n"
      ]
     },
     "execution_count": 1,
     "metadata": {},
     "output_type": "execute_result"
    }
   ],
   "source": [
    "let rec split l = match l with \n",
    "    | e1::e2::q -> let s1, s2 = split q in e1::s1 , e2::s2 \n",
    "    | _ -> l , []\n",
    "    ;;\n",
    "    \n",
    "split [1;2;3;4;5;6;7;8;9]"
   ]
  },
  {
   "cell_type": "code",
   "execution_count": null,
   "id": "bdb3e9da-b3f0-494c-b0ce-4e1b6903c312",
   "metadata": {},
   "outputs": [],
   "source": []
  }
 ],
 "metadata": {
  "kernelspec": {
   "display_name": "OCaml default",
   "language": "OCaml",
   "name": "ocaml-jupyter"
  },
  "language_info": {
   "codemirror_mode": "text/x-ocaml",
   "file_extension": ".ml",
   "mimetype": "text/x-ocaml",
   "name": "OCaml",
   "nbconverter_exporter": null,
   "pygments_lexer": "OCaml",
   "version": "4.11.1"
  }
 },
 "nbformat": 4,
 "nbformat_minor": 5
}
