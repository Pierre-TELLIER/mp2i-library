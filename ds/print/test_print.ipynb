{
 "cells": [
  {
   "cell_type": "code",
   "execution_count": 7,
   "id": "27b1e774-5467-4701-b89a-d4ceb84ed220",
   "metadata": {},
   "outputs": [
    {
     "name": "stdout",
     "output_type": "stream",
     "text": [
      "val sum : int list -> int = <fun>\n",
      "val reverse : 'a list -> 'a list = <fun>\n",
      "val appartient : 'a -> 'a list -> bool = <fun>\n",
      "val croissant : 'a list -> bool = <fun>\n",
      "val dernier : 'a list -> 'a = <fun>\n",
      "val deuxieme : 'a list -> 'a = <fun>\n",
      "val sumlist : int list -> int list -> int list = <fun>\n",
      "val concat : 'a list -> 'a list -> 'a list = <fun>\n",
      "val maximum : 'a list -> 'a = <fun>\n",
      "val equal : 'a list -> 'a list -> bool = <fun>\n",
      "val lenght : 'a list -> int = <fun>\n",
      "val doublon_suite : 'a list -> bool = <fun>\n",
      "val fusion : 'a list -> 'a list -> 'a list = <fun>\n",
      "val split : 'a list -> 'a list * 'a list = <fun>\n",
      "val tri_fusion : 'a list -> 'a list = <fun>\n",
      "val tri_basique : int array -> int array = <fun>\n",
      "val tri_rapide : 'a list -> 'a list = <fun>\n",
      "val somme : int array -> int = <fun>\n",
      "val somme_indice : int -> int -> int array -> int = <fun>\n",
      "type 'a l2c = { mutable prev : 'a l2c; elm : 'a; mutable next : 'a l2c; }\n",
      "val create : 'a -> 'a l2c = <fun>\n",
      "val del_l2c : 'a l2c -> unit = <fun>\n",
      "val add_l2c : 'a l2c -> 'a l2c -> unit = <fun>\n",
      "val mem_l2c : 'a -> 'a l2c -> bool = <fun>\n",
      "val lenght_l2c : 'a l2c -> int = <fun>\n",
      "val fusion_l2c : 'a l2c -> 'a l2c -> 'a l2c = <fun>\n",
      "type 'a zipper = { left : 'a list; right : 'a list; }\n",
      "val move_zip : string -> 'a zipper -> 'a zipper = <fun>\n",
      "type 'a case = { elem : 'a; mutable next : 'a liste1; }\n",
      "and 'a liste1 = Vide | C of 'a case\n",
      "val to_list : 'a liste1 -> 'a list = <fun>\n",
      "val step : 'a liste1 -> 'a liste1 = <fun>\n",
      "val add : 'a zipper -> 'a -> 'a zipper = <fun>\n",
      "val remove : 'a zipper -> 'a zipper = <fun>\n",
      "val has_cycle : 'a liste1 -> 'a case list -> bool = <fun>\n",
      "val cycle_lc : 'a liste1 -> bool = <fun>\n",
      "val recherche_basique : 'a array -> 'a -> bool = <fun>\n",
      "val recherche_basique_indice : 'a array -> 'a -> int = <fun>\n",
      "val dichotomie : 'a array -> 'a -> int = <fun>\n",
      "val trichotomie : 'a array -> 'a -> int = <fun>\n",
      "val doublon_tableau : int array -> bool = <fun>\n",
      "val tranche_x : int array -> int -> int * int = <fun>\n",
      "val tranche_max : int array -> int = <fun>\n",
      "val print_l2c : int l2c -> unit = <fun>\n",
      "val print_bool : bool -> unit = <fun>\n",
      "val print_list_int : int list -> unit = <fun>\n",
      "val print_list_float : float list -> unit = <fun>\n",
      "val print_zipper : int zipper -> unit = <fun>\n"
     ]
    }
   ],
   "source": [
    "#use \"../modules.ml\""
   ]
  },
  {
   "cell_type": "code",
   "execution_count": 8,
   "id": "4d96f3ad-dc5b-4a1b-b6f5-998e6cf55f58",
   "metadata": {},
   "outputs": [
    {
     "name": "stdout",
     "output_type": "stream",
     "text": [
      "true\n"
     ]
    },
    {
     "data": {
      "text/plain": [
       "- : unit = ()\n"
      ]
     },
     "execution_count": 8,
     "metadata": {},
     "output_type": "execute_result"
    }
   ],
   "source": [
    "print_bool (1 = 2-1)"
   ]
  },
  {
   "cell_type": "code",
   "execution_count": 9,
   "id": "71f4a36e-21d4-45b4-9d4f-06db31621a69",
   "metadata": {},
   "outputs": [
    {
     "name": "stdout",
     "output_type": "stream",
     "text": [
      "[1;2;3;3;5]\n"
     ]
    },
    {
     "data": {
      "text/plain": [
       "- : unit = ()\n"
      ]
     },
     "execution_count": 9,
     "metadata": {},
     "output_type": "execute_result"
    }
   ],
   "source": [
    "print_list_int [1;2;3;3;5]"
   ]
  },
  {
   "cell_type": "code",
   "execution_count": 10,
   "id": "88263e0f-6f8d-49d4-8bf1-879d908e96be",
   "metadata": {},
   "outputs": [
    {
     "name": "stdout",
     "output_type": "stream",
     "text": [
      "[1.;2.;3.;3.;5.]\n"
     ]
    },
    {
     "data": {
      "text/plain": [
       "- : unit = ()\n"
      ]
     },
     "execution_count": 10,
     "metadata": {},
     "output_type": "execute_result"
    }
   ],
   "source": [
    "print_list_float [1.;2.;3.;3.;5.]"
   ]
  },
  {
   "cell_type": "code",
   "execution_count": 11,
   "id": "d898dca8-7543-4e85-8b8c-e28ac83c5982",
   "metadata": {},
   "outputs": [
    {
     "name": "stdout",
     "output_type": "stream",
     "text": [
      "10\n"
     ]
    },
    {
     "data": {
      "text/plain": [
       "- : unit = ()\n"
      ]
     },
     "execution_count": 11,
     "metadata": {},
     "output_type": "execute_result"
    }
   ],
   "source": [
    "print_l2c (create 10)"
   ]
  },
  {
   "cell_type": "code",
   "execution_count": 12,
   "id": "cb4d55dc-822d-4e4a-b25d-c112ed1ea1c6",
   "metadata": {},
   "outputs": [
    {
     "name": "stdout",
     "output_type": "stream",
     "text": [
      "[1;2;3;5;6;7]\n"
     ]
    },
    {
     "data": {
      "text/plain": [
       "- : unit = ()\n"
      ]
     },
     "execution_count": 12,
     "metadata": {},
     "output_type": "execute_result"
    }
   ],
   "source": [
    "print_zipper {left = [3;2;1];right = [5;6;7] }"
   ]
  }
 ],
 "metadata": {
  "kernelspec": {
   "display_name": "OCaml default",
   "language": "OCaml",
   "name": "ocaml-jupyter"
  },
  "language_info": {
   "codemirror_mode": "text/x-ocaml",
   "file_extension": ".ml",
   "mimetype": "text/x-ocaml",
   "name": "OCaml",
   "nbconverter_exporter": null,
   "pygments_lexer": "OCaml",
   "version": "4.11.1"
  }
 },
 "nbformat": 4,
 "nbformat_minor": 5
}
