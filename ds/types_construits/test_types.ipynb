{
 "cells": [
  {
   "cell_type": "code",
   "execution_count": 17,
   "id": "538d8fc3-60c3-49ef-82fe-6ca71be56ff8",
   "metadata": {},
   "outputs": [
    {
     "name": "stdout",
     "output_type": "stream",
     "text": [
      "val sum : int list -> int = <fun>\n",
      "val reverse : 'a list -> 'a list = <fun>\n",
      "val appartient : 'a -> 'a list -> bool = <fun>\n",
      "val croissant : 'a list -> bool = <fun>\n",
      "val dernier : 'a list -> 'a = <fun>\n",
      "val deuxieme : 'a list -> 'a = <fun>\n",
      "val sumlist : int list -> int list -> int list = <fun>\n",
      "val concat : 'a list -> 'a list -> 'a list = <fun>\n",
      "val maximum : 'a list -> 'a = <fun>\n",
      "val equal : 'a list -> 'a list -> bool = <fun>\n",
      "val lenght : 'a list -> int = <fun>\n",
      "val doublon_suite : 'a list -> bool = <fun>\n",
      "val fusion : 'a list -> 'a list -> 'a list = <fun>\n",
      "val split : 'a list -> 'a list * 'a list = <fun>\n",
      "val tri_fusion : 'a list -> 'a list = <fun>\n",
      "val tri_basique : int array -> int array = <fun>\n",
      "val tri_rapide : 'a list -> 'a list = <fun>\n",
      "val somme : int array -> int = <fun>\n",
      "val somme_indice : int -> int -> int array -> int = <fun>\n",
      "type 'a l2c = { mutable prev : 'a l2c; elm : 'a; mutable next : 'a l2c; }\n",
      "val create : 'a -> 'a l2c = <fun>\n",
      "val del_l2c : 'a l2c -> unit = <fun>\n",
      "val add_l2c : 'a l2c -> 'a l2c -> unit = <fun>\n",
      "val mem_l2c : 'a -> 'a l2c -> bool = <fun>\n",
      "val lenght_l2c : 'a l2c -> int = <fun>\n",
      "val fusion_l2c : 'a l2c -> 'a l2c -> 'a l2c = <fun>\n",
      "type 'a zipper = { left : 'a list; right : 'a list; }\n",
      "val move_zip : string -> 'a zipper -> 'a zipper = <fun>\n",
      "type 'a case = { elem : 'a; mutable next : 'a liste1; }\n",
      "and 'a liste1 = Vide | C of 'a case\n",
      "val to_list : 'a liste1 -> 'a list = <fun>\n",
      "val step : 'a liste1 -> 'a liste1 = <fun>\n",
      "val has_cycle : 'a liste1 -> 'a case list -> bool = <fun>\n",
      "val cycle_lc : 'a liste1 -> bool = <fun>\n",
      "val recherche_basique : 'a array -> 'a -> bool = <fun>\n",
      "val recherche_basique_indice : 'a array -> 'a -> int = <fun>\n",
      "val dichotomie : 'a array -> 'a -> int = <fun>\n",
      "val trichotomie : 'a array -> 'a -> int = <fun>\n",
      "val doublon_tableau : int array -> bool = <fun>\n",
      "val tranche_x : int array -> int -> int * int = <fun>\n",
      "val tranche_max : int array -> int = <fun>\n",
      "val print_l2c : int l2c -> unit = <fun>\n",
      "val print_bool : bool -> unit = <fun>\n",
      "val print_list_int : int list -> unit = <fun>\n",
      "val print_list_float : float list -> unit = <fun>\n",
      "val add : 'a zipper -> 'a -> 'a zipper = <fun>\n",
      "val remove : 'a zipper -> 'a zipper = <fun>\n"
     ]
    }
   ],
   "source": [
    "#use \"../modules.ml\""
   ]
  },
  {
   "cell_type": "code",
   "execution_count": 2,
   "id": "13bc9c45-ff27-449c-a42c-42a905a47041",
   "metadata": {},
   "outputs": [
    {
     "data": {
      "text/plain": [
       "- : int l2c = {prev = <cycle>; elm = 10; next = <cycle>}\n"
      ]
     },
     "execution_count": 2,
     "metadata": {},
     "output_type": "execute_result"
    }
   ],
   "source": [
    "create 10"
   ]
  },
  {
   "cell_type": "code",
   "execution_count": 3,
   "id": "d48a8003-b38b-4f06-a969-764ef67b43bd",
   "metadata": {},
   "outputs": [
    {
     "data": {
      "text/plain": [
       "val triple : int l2c =\n",
       "  {prev =\n",
       "    {prev = {prev = <cycle>; elm = 6; next = <cycle>}; elm = 5;\n",
       "     next = <cycle>};\n",
       "   elm = 7;\n",
       "   next =\n",
       "    {prev = <cycle>; elm = 6;\n",
       "     next = {prev = <cycle>; elm = 5; next = <cycle>}}}\n"
      ]
     },
     "execution_count": 3,
     "metadata": {},
     "output_type": "execute_result"
    },
    {
     "data": {
      "text/plain": [
       "val triple2 : int l2c =\n",
       "  {prev =\n",
       "    {prev = {prev = <cycle>; elm = 2; next = <cycle>}; elm = 1;\n",
       "     next = <cycle>};\n",
       "   elm = 3;\n",
       "   next =\n",
       "    {prev = <cycle>; elm = 2;\n",
       "     next = {prev = <cycle>; elm = 1; next = <cycle>}}}\n"
      ]
     },
     "execution_count": 3,
     "metadata": {},
     "output_type": "execute_result"
    }
   ],
   "source": [
    "let triple = \n",
    "    let a = create 5 in\n",
    "    let b = create 6 in\n",
    "    let c = create 7 in\n",
    "    add_l2c a b;\n",
    "    add_l2c b c ;\n",
    "    c;;\n",
    "let triple2 = \n",
    "    let a = create 1 in\n",
    "    let b = create 2 in\n",
    "    let c = create 3 in\n",
    "    add_l2c a b;\n",
    "    add_l2c b c ;\n",
    "    c"
   ]
  },
  {
   "cell_type": "code",
   "execution_count": 4,
   "id": "853c42a9-0f8f-4156-a740-957fd0b51bf7",
   "metadata": {},
   "outputs": [
    {
     "name": "stdout",
     "output_type": "stream",
     "text": [
      "6,5,7\n"
     ]
    },
    {
     "data": {
      "text/plain": [
       "- : unit = ()\n"
      ]
     },
     "execution_count": 4,
     "metadata": {},
     "output_type": "execute_result"
    }
   ],
   "source": [
    "print_l2c triple"
   ]
  },
  {
   "cell_type": "code",
   "execution_count": 5,
   "id": "dda70eed-b547-460a-9270-5e03a9e9efe5",
   "metadata": {},
   "outputs": [
    {
     "data": {
      "text/plain": [
       "- : bool * bool = (true, false)\n"
      ]
     },
     "execution_count": 5,
     "metadata": {},
     "output_type": "execute_result"
    }
   ],
   "source": [
    "(mem_l2c 8 triple,mem_l2c 6 triple)"
   ]
  },
  {
   "cell_type": "code",
   "execution_count": 6,
   "id": "0c4dd209-0f12-410f-a8ec-ede20f6beffa",
   "metadata": {},
   "outputs": [
    {
     "data": {
      "text/plain": [
       "- : int = 3\n"
      ]
     },
     "execution_count": 6,
     "metadata": {},
     "output_type": "execute_result"
    }
   ],
   "source": [
    "lenght_l2c triple"
   ]
  },
  {
   "cell_type": "code",
   "execution_count": 7,
   "id": "3700e314-404b-4baa-a37e-e9268271fa4b",
   "metadata": {},
   "outputs": [
    {
     "data": {
      "text/plain": [
       "- : int l2c =\n",
       "{prev =\n",
       "  {prev =\n",
       "    {prev =\n",
       "      {prev =\n",
       "        {prev = {prev = <cycle>; elm = 6; next = <cycle>}; elm = 5;\n",
       "         next = <cycle>};\n",
       "       elm = 7; next = <cycle>};\n",
       "     elm = 2; next = <cycle>};\n",
       "   elm = 1; next = <cycle>};\n",
       " elm = 3;\n",
       " next =\n",
       "  {prev = <cycle>; elm = 6;\n",
       "   next =\n",
       "    {prev = <cycle>; elm = 5;\n",
       "     next =\n",
       "      {prev = <cycle>; elm = 7;\n",
       "       next =\n",
       "        {prev = <cycle>; elm = 2;\n",
       "         next = {prev = <cycle>; elm = 1; next = <cycle>}}}}}}\n"
      ]
     },
     "execution_count": 7,
     "metadata": {},
     "output_type": "execute_result"
    }
   ],
   "source": [
    "fusion_l2c triple triple2"
   ]
  },
  {
   "cell_type": "code",
   "execution_count": 8,
   "id": "174f0ba4-eefa-46bd-b296-2473fa813ea9",
   "metadata": {},
   "outputs": [
    {
     "data": {
      "text/plain": [
       "val test_zipper : int zipper = {left = [3; 2; 1]; right = [5; 6; 7]}\n"
      ]
     },
     "execution_count": 8,
     "metadata": {},
     "output_type": "execute_result"
    }
   ],
   "source": [
    "let test_zipper = {left = [3;2;1];right = [5;6;7] }"
   ]
  },
  {
   "cell_type": "code",
   "execution_count": 9,
   "id": "4176b810-028a-439b-b87f-c6b9c70b3f76",
   "metadata": {},
   "outputs": [
    {
     "data": {
      "text/plain": [
       "- : int zipper * int zipper =\n",
       "({left = [2; 1]; right = [3; 5; 6; 7]},\n",
       " {left = [5; 3; 2; 1]; right = [6; 7]})\n"
      ]
     },
     "execution_count": 9,
     "metadata": {},
     "output_type": "execute_result"
    }
   ],
   "source": [
    "move_zip \"right\" test_zipper, move_zip \"left\" test_zipper"
   ]
  },
  {
   "cell_type": "code",
   "execution_count": 9,
   "id": "1575d2f7-ee4f-4aac-a1d2-f8b27bdf44ca",
   "metadata": {},
   "outputs": [
    {
     "data": {
      "text/plain": [
       "- : int zipper = {left = [3; 2; 1]; right = [4; 5; 6; 7]}\n"
      ]
     },
     "execution_count": 9,
     "metadata": {},
     "output_type": "execute_result"
    }
   ],
   "source": [
    "add test_zipper 4 "
   ]
  },
  {
   "cell_type": "code",
   "execution_count": 10,
   "id": "5d7387c6-faef-4f28-a7d6-e39dfa000d0b",
   "metadata": {},
   "outputs": [
    {
     "data": {
      "text/plain": [
       "- : int zipper = {left = [3; 2; 1]; right = [2; 1]}\n"
      ]
     },
     "execution_count": 10,
     "metadata": {},
     "output_type": "execute_result"
    }
   ],
   "source": [
    "remove test_zipper"
   ]
  },
  {
   "cell_type": "code",
   "execution_count": 11,
   "id": "fd4fcda6-88b5-4893-bf82-e2d4868e27c7",
   "metadata": {},
   "outputs": [
    {
     "data": {
      "text/plain": [
       "val print_zipper : int zipper -> unit = <fun>\n"
      ]
     },
     "execution_count": 11,
     "metadata": {},
     "output_type": "execute_result"
    }
   ],
   "source": [
    "let print_zipper zip = \n",
    "    print_list_int ((reverse zip.left)@zip.right)"
   ]
  },
  {
   "cell_type": "code",
   "execution_count": 12,
   "id": "bdfa9819-cd07-4a44-96e7-24f66a10d189",
   "metadata": {},
   "outputs": [
    {
     "name": "stdout",
     "output_type": "stream",
     "text": [
      "[1;2;3;5;6;7]\n"
     ]
    },
    {
     "data": {
      "text/plain": [
       "- : unit = ()\n"
      ]
     },
     "execution_count": 12,
     "metadata": {},
     "output_type": "execute_result"
    }
   ],
   "source": [
    "print_zipper test_zipper"
   ]
  },
  {
   "cell_type": "code",
   "execution_count": 14,
   "id": "ae9c1311-805a-4b30-b9cc-56382c5cab96",
   "metadata": {},
   "outputs": [
    {
     "data": {
      "text/plain": [
       "val liste_exemple : int liste1 =\n",
       "  C {elem = 1; next = C {elem = 2; next = Vide}}\n"
      ]
     },
     "execution_count": 14,
     "metadata": {},
     "output_type": "execute_result"
    },
    {
     "data": {
      "text/plain": [
       "val liste_exemple_boucle : int liste1 =\n",
       "  C {elem = 1; next = C {elem = 2; next = <cycle>}}\n"
      ]
     },
     "execution_count": 14,
     "metadata": {},
     "output_type": "execute_result"
    }
   ],
   "source": [
    "let liste_exemple =  C {elem = 1 ; next =   C {elem = 2 ; next =  Vide}};;\n",
    "let rec liste_exemple_boucle =  C {elem = 1 ; next =   C {elem = 2 ; next =  liste_exemple_boucle}};;"
   ]
  },
  {
   "cell_type": "code",
   "execution_count": 15,
   "id": "b135d786-c09a-49c0-9325-223ed3a9837b",
   "metadata": {},
   "outputs": [
    {
     "data": {
      "text/plain": [
       "- : bool * bool = (false, true)\n"
      ]
     },
     "execution_count": 15,
     "metadata": {},
     "output_type": "execute_result"
    }
   ],
   "source": [
    "has_cycle liste_exemple [], has_cycle liste_exemple_boucle []"
   ]
  },
  {
   "cell_type": "code",
   "execution_count": 16,
   "id": "a0e9cc7c-5805-47c6-a779-851aadf89b19",
   "metadata": {},
   "outputs": [
    {
     "data": {
      "text/plain": [
       "- : bool * bool = (false, true)\n"
      ]
     },
     "execution_count": 16,
     "metadata": {},
     "output_type": "execute_result"
    }
   ],
   "source": [
    "cycle_lc liste_exemple, cycle_lc liste_exemple_boucle "
   ]
  }
 ],
 "metadata": {
  "kernelspec": {
   "display_name": "OCaml default",
   "language": "OCaml",
   "name": "ocaml-jupyter"
  },
  "language_info": {
   "codemirror_mode": "text/x-ocaml",
   "file_extension": ".ml",
   "mimetype": "text/x-ocaml",
   "name": "OCaml",
   "nbconverter_exporter": null,
   "pygments_lexer": "OCaml",
   "version": "4.11.1"
  }
 },
 "nbformat": 4,
 "nbformat_minor": 5
}
